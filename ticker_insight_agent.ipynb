{
 "cells": [
  {
   "cell_type": "markdown",
   "metadata": {},
   "source": [
    "## Ticker Insight: Financial Asset Analysis AI Agent\n",
    "\n",
    "Proposed Task: Investment Research Assistant.\n",
    "\n",
    "Objective: Develop an agent that accepts a stock ticker or cryptocurrency symbol as input, searches the web for pertinent information, and delivers a brief summary of the asset's purpose and investment potential."
   ]
  },
  {
   "cell_type": "markdown",
   "metadata": {},
   "source": [
    "### Setup\n",
    "\n",
    "First, install the required packages and configure your environment:"
   ]
  },
  {
   "cell_type": "code",
   "execution_count": null,
   "metadata": {},
   "outputs": [],
   "source": [
    "%%capture --no-stderr\n",
    "%pip install -U langgraph langsmith langchain_openai tavily-python python-dotenv"
   ]
  },
  {
   "cell_type": "code",
   "execution_count": null,
   "metadata": {},
   "outputs": [],
   "source": [
    "import getpass\n",
    "import os\n",
    "from dotenv import load_dotenv\n",
    "\n",
    "# First try to load from .env file\n",
    "load_dotenv()\n",
    "\n",
    "def _set_env(var: str):\n",
    "  if not os.environ.get(var):\n",
    "    os.environ[var] = getpass.getpass(f\"{var}: \")\n",
    "\n",
    "# Try to get keys from .env, if not found, prompt for them\n",
    "_set_env(\"OPENAI_API_KEY\")\n",
    "_set_env(\"TAVILY_API_KEY\")"
   ]
  },
  {
   "cell_type": "markdown",
   "metadata": {},
   "source": [
    "Define `AgentState` and `SearchResult` data models."
   ]
  },
  {
   "cell_type": "code",
   "execution_count": null,
   "metadata": {},
   "outputs": [],
   "source": [
    "from typing import TypedDict, Annotated, Sequence, Optional\n",
    "from langgraph.graph import StateGraph\n",
    "from langchain_core.messages import HumanMessage, AIMessage, BaseMessage\n",
    "from langchain_openai import ChatOpenAI\n",
    "from tavily import TavilyClient\n",
    "from pydantic import BaseModel, Field\n",
    "\n",
    "# Initialize our AI and search tools\n",
    "llm = ChatOpenAI(model=\"gpt-4\")\n",
    "tavily = TavilyClient()\n",
    "\n",
    "# Define our data models\n",
    "class AgentState(BaseModel):\n",
    "\t\"\"\"\n",
    "\tRepresents the state of our investment research agent\n",
    "\tSimilar to React's component state\n",
    "\t\"\"\"\n",
    "\tmessages: Sequence[BaseMessage] = Field(\n",
    "\t\t\tdefault_factory=list,\n",
    "\t\t\tdescription=\"History of conversation messages\"\n",
    "\t)\n",
    "\tticker: Optional[str] = Field(\n",
    "\t\t\tdefault=None,\n",
    "\t\t\tdescription=\"Extracted stock/crypto ticker symbol\"\n",
    "\t)\n",
    "\tresearch_data: Optional[str] = Field(\n",
    "\t\t\tdefault=None,\n",
    "\t\t\tdescription=\"Collected research information\"\n",
    "\t)\n",
    "\n",
    "class SearchResult(BaseModel):\n",
    "\t\"\"\"\n",
    "\tRepresents a single search result from Tavily\n",
    "\t\"\"\"\n",
    "\ttitle: str = Field(description=\"Title of the search result\")\n",
    "\turl: str = Field(description=\"URL of the source\")\n",
    "\tcontent: str = Field(description=\"Main content from the search\")"
   ]
  },
  {
   "cell_type": "markdown",
   "metadata": {},
   "source": [
    "First node: Ticker Extractor. "
   ]
  },
  {
   "cell_type": "code",
   "execution_count": null,
   "metadata": {},
   "outputs": [],
   "source": [
    "def extract_ticker(state: AgentState) -> AgentState:\n",
    "\t\"\"\"Extracts ticker symbol from the last message\"\"\"\n",
    "\tlast_message = state.messages[-1].content\n",
    "\t\n",
    "\tprompt = \"\"\"\n",
    "\tExtract the stock ticker or crypto symbol from this message.\n",
    "\tIf it's a company name, convert it to its stock symbol (e.g., Apple -> AAPL).\n",
    "\tReturn ONLY the symbol in uppercase, nothing else.\n",
    "\tIf no symbol is found, return 'NONE'.\n",
    "\t\n",
    "\tMessage: {message}\n",
    "\t\"\"\".format(message=last_message)\n",
    "\t\n",
    "\tresponse = llm.invoke(prompt)\n",
    "\t\n",
    "\treturn state.model_copy(update={\"ticker\": response.content.strip()})"
   ]
  },
  {
   "cell_type": "markdown",
   "metadata": {},
   "source": [
    "Second node: Research Collector."
   ]
  },
  {
   "cell_type": "code",
   "execution_count": null,
   "metadata": {},
   "outputs": [],
   "source": [
    "def collect_research(state: AgentState) -> AgentState:\n",
    "    \"\"\"Searches for information about the ticker using Tavily\"\"\"\n",
    "    if not state.ticker or state.ticker == \"NONE\":\n",
    "        return state\n",
    "        \n",
    "    search_query = f\"{state.ticker} stock company overview financial analysis recent news\"\n",
    "    \n",
    "    # Get search results\n",
    "    raw_results = tavily.search(\n",
    "        search_query, \n",
    "        search_depth=\"basic\",\n",
    "        max_results=3\n",
    "    )\n",
    "    \n",
    "    # The results should be in raw_results['results']\n",
    "    results = raw_results.get('results', [])\n",
    "    \n",
    "    research_text = \"\"\n",
    "    for idx, result in enumerate(results, 1):\n",
    "        research_text += f\"\"\"\n",
    "\t\t\t\t\t\tSource #{idx}:\n",
    "\t\t\t\t\t\tTitle: {result.get('title', 'No title')}\n",
    "\t\t\t\t\t\tURL: {result.get('url', 'No URL')}\n",
    "\t\t\t\t\t\tContent: {result.get('content', 'No content')}\n",
    "\t\t\t\t\t\t-------------------\n",
    "\t\t\t\t\t\t\"\"\"\n",
    "    \n",
    "    return state.model_copy(update={\"research_data\": research_text})"
   ]
  },
  {
   "cell_type": "markdown",
   "metadata": {},
   "source": [
    "Third node: Research Summarizer."
   ]
  },
  {
   "cell_type": "code",
   "execution_count": null,
   "metadata": {},
   "outputs": [],
   "source": [
    "def summarize_research(state: AgentState) -> AgentState:\n",
    "    \"\"\"Creates a concise investment summary from the research data\"\"\"\n",
    "    if not state.research_data:\n",
    "        return state\n",
    "\n",
    "    prompt = f\"\"\"\n",
    "    Analyze the following research data about {state.ticker} and create a brief investment summary.\n",
    "    Focus on:\n",
    "    1. What the company/asset does\n",
    "    2. Key recent developments\n",
    "    3. Potential investment considerations\n",
    "    \n",
    "    Keep it concise and objective.\n",
    "    \n",
    "    Research Data:\n",
    "    {state.research_data}\n",
    "    \"\"\"\n",
    "    \n",
    "    response = llm.invoke(prompt)\n",
    "    \n",
    "    # Add the summary as a new AI message\n",
    "    new_messages = list(state.messages)  # Convert to list to modify\n",
    "    new_messages.append(AIMessage(content=response.content))\n",
    "    \n",
    "    return state.model_copy(update={\"messages\": new_messages})"
   ]
  },
  {
   "cell_type": "markdown",
   "metadata": {},
   "source": [
    "Create graph."
   ]
  },
  {
   "cell_type": "code",
   "execution_count": null,
   "metadata": {},
   "outputs": [],
   "source": [
    "from IPython.display import Image, display\n",
    "from langgraph.graph import StateGraph\n",
    "\n",
    "# Create the graph\n",
    "builder = StateGraph(AgentState)\n",
    "\n",
    "# Add our nodes to the graph\n",
    "builder.add_node(\"extract_ticker\", extract_ticker)\n",
    "builder.add_node(\"collect_research\", collect_research)\n",
    "builder.add_node(\"summarize_research\", summarize_research)\n",
    "\n",
    "# Connect the nodes in sequence\n",
    "builder.set_entry_point(\"extract_ticker\")\n",
    "builder.add_edge(\"extract_ticker\", \"collect_research\")\n",
    "builder.add_edge(\"collect_research\", \"summarize_research\")\n",
    "builder.set_finish_point(\"summarize_research\")\n",
    "\n",
    "# Compile the graph\n",
    "graph = builder.compile()\n",
    "\n",
    "# View\n",
    "display(Image(graph.get_graph().draw_mermaid_png()))"
   ]
  },
  {
   "cell_type": "markdown",
   "metadata": {},
   "source": [
    "Create agent runner (main execution loop)."
   ]
  },
  {
   "cell_type": "code",
   "execution_count": null,
   "metadata": {},
   "outputs": [],
   "source": [
    "def run_investment_research(user_message: str):\n",
    "    \"\"\"Runs the investment research workflow for a given user message\"\"\"\n",
    "    # Create initial state\n",
    "    initial_state = AgentState(\n",
    "        messages=[HumanMessage(content=user_message)],\n",
    "        ticker=None,\n",
    "        research_data=None\n",
    "    )\n",
    "    \n",
    "    # Run the graph and get the final state\n",
    "    final_state = graph.invoke(initial_state)\n",
    "    \n",
    "    # Convert the result back to our AgentState type\n",
    "    final_state_model = AgentState(**final_state)\n",
    "    \n",
    "    # Return the final AI response\n",
    "    return final_state_model.messages[-1].content\n",
    "\n",
    "# Let's test it!\n",
    "test_query = \"Can you analyze Tesla stock for me?\"\n",
    "result = run_investment_research(test_query)\n",
    "print(\"\\nFinal Analysis:\")\n",
    "print(\"-\" * 50)\n",
    "print(result)"
   ]
  }
 ],
 "metadata": {
  "kernelspec": {
   "display_name": ".venv",
   "language": "python",
   "name": "python3"
  },
  "language_info": {
   "codemirror_mode": {
    "name": "ipython",
    "version": 3
   },
   "file_extension": ".py",
   "mimetype": "text/x-python",
   "name": "python",
   "nbconvert_exporter": "python",
   "pygments_lexer": "ipython3",
   "version": "3.13.1"
  }
 },
 "nbformat": 4,
 "nbformat_minor": 2
}
